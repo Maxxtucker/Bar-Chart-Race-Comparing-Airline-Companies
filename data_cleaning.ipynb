{
 "cells": [
  {
   "cell_type": "code",
   "execution_count": 19,
   "metadata": {},
   "outputs": [],
   "source": [
    "import pandas as pd\n",
    "\n",
    "# Step 1: Load the original CSV file\n",
    "# Replace 'airlines_original.csv' with the path to your CSV file\n",
    "input_file = 'airlines_original.csv'\n",
    "output_file = 'airlines_ideal_format.csv'\n",
    "\n",
    "# Read the CSV file without headers because the structure is custom\n",
    "df = pd.read_csv(input_file, header=None)\n",
    "\n",
    "# Step 2: Extract Column Names and Data\n",
    "# The first row contains the labels for the columns (e.g., 'Airline', 'Status', etc.)\n",
    "column_labels = df.iloc[0, 1:].tolist()  # Skip the first column which is labels\n",
    "column_labels.insert(0, 'Attribute')     # Add 'Attribute' as the first column name\n",
    "\n",
    "# Assign column names to the DataFrame\n",
    "df.columns = column_labels\n",
    "\n",
    "# Remove the first row since it's now used as headers\n",
    "df = df.drop(0).reset_index(drop=True)\n",
    "\n",
    "# Step 3: Transpose the DataFrame\n",
    "# Set 'Attribute' as the index to transpose correctly\n",
    "df.set_index('Attribute', inplace=True)\n",
    "\n",
    "# Transpose the DataFrame\n",
    "df_transposed = df.T.reset_index().rename(columns={'index': 'Airline'})\n",
    "\n",
    "# Step 4: Melt the DataFrame to Long Format\n",
    "# Identify columns that are dates (assuming they contain a \"'Q\" pattern)\n",
    "date_columns = [col for col in df_transposed.columns if \"'Q\" in col]\n",
    "\n",
    "# Melt the DataFrame to have 'Date', 'Value' columns\n",
    "long_df = pd.melt(df_transposed, id_vars=['Airline'], value_vars=date_columns,\n",
    "                  var_name='Date', value_name='Value')\n",
    "\n",
    "# Step 5: Clean the Data\n",
    "# Remove dollar signs and commas from 'Value' and convert to numeric\n",
    "long_df['Value'] = long_df['Value'].replace({'M': '', ',': ''}, regex=True)\n",
    "long_df['Value'] = pd.to_numeric(long_df['Value'], errors='coerce')\n",
    "\n",
    "# Remove any rows with missing or zero values if necessary\n",
    "long_df = long_df.dropna(subset=['Value'])\n",
    "long_df = long_df[long_df['Value'] != 0]\n",
    "\n",
    "# Optional: If you have 'Status', 'Country', etc., merge them back\n",
    "# Extract 'Status', 'Country', etc., from df_transposed\n",
    "metadata_cols = ['Airline', 'Status', 'Country', 'Region','IATA']\n",
    "metadata = df_transposed[metadata_cols].drop_duplicates()\n",
    "\n",
    "# Merge metadata back into the long DataFrame\n",
    "final_df = pd.merge(long_df, metadata, on='Airline', how='left')\n",
    "\n",
    "# Step 6: Save the Data to a New CSV File\n",
    "final_df.to_csv(output_file, index=False)\n",
    "\n"
   ]
  }
 ],
 "metadata": {
  "kernelspec": {
   "display_name": "base",
   "language": "python",
   "name": "python3"
  },
  "language_info": {
   "codemirror_mode": {
    "name": "ipython",
    "version": 3
   },
   "file_extension": ".py",
   "mimetype": "text/x-python",
   "name": "python",
   "nbconvert_exporter": "python",
   "pygments_lexer": "ipython3",
   "version": "3.11.5"
  }
 },
 "nbformat": 4,
 "nbformat_minor": 2
}
